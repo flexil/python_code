{
  "cells": [
    {
      "cell_type": "markdown",
      "metadata": {
        "id": "6hyUfQI7ExU5"
      },
      "source": [
        "python class"
      ]
    },
    {
      "cell_type": "markdown",
      "metadata": {
        "id": "a9k_rd0hE7N4"
      },
      "source": [
        "#  Variable\n",
        "\n",
        "variable_name=value"
      ]
    },
    {
      "cell_type": "code",
      "execution_count": null,
      "metadata": {
        "id": "QeJUNaCbDAzt"
      },
      "outputs": [],
      "source": [
        "x=19\n",
        "y=20\n"
      ]
    },
    {
      "cell_type": "code",
      "execution_count": null,
      "metadata": {
        "id": "s2K1GDJGFutQ"
      },
      "outputs": [],
      "source": [
        "z=x+y"
      ]
    },
    {
      "cell_type": "code",
      "execution_count": null,
      "metadata": {
        "colab": {
          "base_uri": "https://localhost:8080/"
        },
        "id": "wv9QLTcZF6BS",
        "outputId": "2e772328-4231-4af8-9acf-3e740e274551"
      },
      "outputs": [
        {
          "data": {
            "text/plain": [
              "39"
            ]
          },
          "execution_count": 3,
          "metadata": {},
          "output_type": "execute_result"
        }
      ],
      "source": [
        "z"
      ]
    },
    {
      "cell_type": "code",
      "execution_count": null,
      "metadata": {
        "id": "j4uQDyJZGYNk"
      },
      "outputs": [],
      "source": [
        "name = 'shoes'"
      ]
    },
    {
      "cell_type": "code",
      "execution_count": null,
      "metadata": {
        "colab": {
          "base_uri": "https://localhost:8080/",
          "height": 35
        },
        "id": "XKKP1_9WGhhn",
        "outputId": "8e99179c-c1e2-4a1a-e86d-496bf038b60b"
      },
      "outputs": [
        {
          "data": {
            "application/vnd.google.colaboratory.intrinsic+json": {
              "type": "string"
            },
            "text/plain": [
              "'shoes'"
            ]
          },
          "execution_count": 5,
          "metadata": {},
          "output_type": "execute_result"
        }
      ],
      "source": [
        "name"
      ]
    },
    {
      "cell_type": "markdown",
      "metadata": {
        "id": "Idysciv9GtEK"
      },
      "source": [
        "## data type in python"
      ]
    },
    {
      "cell_type": "markdown",
      "metadata": {
        "id": "wP29tkXVG-zQ"
      },
      "source": [
        "integer\n",
        "\n",
        "float\n",
        "\n",
        "string\n",
        "\n",
        "character\n",
        "\n",
        "boolean"
      ]
    },
    {
      "cell_type": "markdown",
      "metadata": {
        "id": "JhJ4EuHwHoKq"
      },
      "source": [
        "# integer"
      ]
    },
    {
      "cell_type": "code",
      "execution_count": null,
      "metadata": {
        "id": "8SSa7rsMG8Va"
      },
      "outputs": [],
      "source": [
        "t = 6\n"
      ]
    },
    {
      "cell_type": "code",
      "execution_count": null,
      "metadata": {
        "colab": {
          "base_uri": "https://localhost:8080/"
        },
        "id": "s2enhJhOIZva",
        "outputId": "f760b536-9b6b-48ee-ecde-5b0a13e2dc55"
      },
      "outputs": [
        {
          "data": {
            "text/plain": [
              "int"
            ]
          },
          "execution_count": 11,
          "metadata": {},
          "output_type": "execute_result"
        }
      ],
      "source": [
        "type(t)"
      ]
    },
    {
      "cell_type": "markdown",
      "metadata": {
        "id": "h0G88mttHxxa"
      },
      "source": [
        "# decimal number (float)"
      ]
    },
    {
      "cell_type": "code",
      "execution_count": null,
      "metadata": {
        "id": "bmGAtRovHwWF"
      },
      "outputs": [],
      "source": [
        "area=3.14"
      ]
    },
    {
      "cell_type": "code",
      "execution_count": null,
      "metadata": {
        "colab": {
          "base_uri": "https://localhost:8080/"
        },
        "id": "A24rnBEHIIb5",
        "outputId": "414eb7b6-a73d-4978-9a69-25b09d6319a8"
      },
      "outputs": [
        {
          "data": {
            "text/plain": [
              "float"
            ]
          },
          "execution_count": 9,
          "metadata": {},
          "output_type": "execute_result"
        }
      ],
      "source": [
        "type(area)"
      ]
    },
    {
      "cell_type": "markdown",
      "metadata": {
        "id": "I1Uj4b1iIrlY"
      },
      "source": [
        "# string (str)"
      ]
    },
    {
      "cell_type": "code",
      "execution_count": null,
      "metadata": {
        "id": "X6Iv1B3FI3NV"
      },
      "outputs": [],
      "source": [
        "student=\"John\""
      ]
    },
    {
      "cell_type": "code",
      "execution_count": null,
      "metadata": {
        "colab": {
          "base_uri": "https://localhost:8080/"
        },
        "id": "uJOdmz32JJSi",
        "outputId": "4f7220c6-201a-4ae6-9aae-3558c0f95f5c"
      },
      "outputs": [
        {
          "data": {
            "text/plain": [
              "str"
            ]
          },
          "execution_count": 13,
          "metadata": {},
          "output_type": "execute_result"
        }
      ],
      "source": [
        "type(student)"
      ]
    },
    {
      "cell_type": "markdown",
      "metadata": {
        "id": "mVE1styeJe3N"
      },
      "source": [
        "# character"
      ]
    },
    {
      "cell_type": "code",
      "execution_count": null,
      "metadata": {
        "id": "pV6Ob3hvJq34"
      },
      "outputs": [],
      "source": [
        "grade='B+'"
      ]
    },
    {
      "cell_type": "code",
      "execution_count": null,
      "metadata": {
        "colab": {
          "base_uri": "https://localhost:8080/"
        },
        "id": "uI7-_y0hJ2_h",
        "outputId": "2076e03a-93d3-42ab-e498-c1589b25d8f2"
      },
      "outputs": [
        {
          "data": {
            "text/plain": [
              "str"
            ]
          },
          "execution_count": 15,
          "metadata": {},
          "output_type": "execute_result"
        }
      ],
      "source": [
        "type(grade)"
      ]
    },
    {
      "cell_type": "markdown",
      "metadata": {
        "id": "BAbvTD_gKDBp"
      },
      "source": [
        "# Boolean"
      ]
    },
    {
      "cell_type": "code",
      "execution_count": null,
      "metadata": {
        "id": "EcyG5n6uKJeB"
      },
      "outputs": [],
      "source": [
        "choice=True"
      ]
    },
    {
      "cell_type": "code",
      "execution_count": null,
      "metadata": {
        "colab": {
          "base_uri": "https://localhost:8080/"
        },
        "id": "sxkk3faEKWo_",
        "outputId": "67dd183c-9824-4993-e978-26574f0f1fa5"
      },
      "outputs": [
        {
          "data": {
            "text/plain": [
              "bool"
            ]
          },
          "execution_count": 17,
          "metadata": {},
          "output_type": "execute_result"
        }
      ],
      "source": [
        "type(choice)"
      ]
    },
    {
      "cell_type": "markdown",
      "metadata": {
        "id": "cENAhgmpKyK2"
      },
      "source": [
        "# Display data"
      ]
    },
    {
      "cell_type": "code",
      "execution_count": null,
      "metadata": {
        "colab": {
          "base_uri": "https://localhost:8080/"
        },
        "id": "V_8A6vK9K638",
        "outputId": "f73292e5-18bb-4172-f6c1-a9b0df5088f1"
      },
      "outputs": [
        {
          "name": "stdout",
          "output_type": "stream",
          "text": [
            "8\n"
          ]
        }
      ],
      "source": [
        "print(8)"
      ]
    },
    {
      "cell_type": "code",
      "execution_count": null,
      "metadata": {
        "colab": {
          "base_uri": "https://localhost:8080/"
        },
        "id": "w42KUl3WLOPB",
        "outputId": "eb5bb23e-3f13-482e-cc55-884035ae4d38"
      },
      "outputs": [
        {
          "name": "stdout",
          "output_type": "stream",
          "text": [
            "hello world\n"
          ]
        }
      ],
      "source": [
        "print('hello world')"
      ]
    },
    {
      "cell_type": "markdown",
      "metadata": {
        "id": "4vi0Frv4LmL2"
      },
      "source": [
        "# display a word and figures at once"
      ]
    },
    {
      "cell_type": "code",
      "execution_count": null,
      "metadata": {
        "colab": {
          "base_uri": "https://localhost:8080/"
        },
        "id": "gpy5aqMzLxrM",
        "outputId": "9c8faddb-352e-4759-aa6b-1752bd2891a0"
      },
      "outputs": [
        {
          "name": "stdout",
          "output_type": "stream",
          "text": [
            "the area is: 3.14\n"
          ]
        }
      ],
      "source": [
        "print('the area is:', area)"
      ]
    },
    {
      "cell_type": "markdown",
      "metadata": {
        "id": "bkO9_7hFMKWb"
      },
      "source": [
        "# Input data in python"
      ]
    },
    {
      "cell_type": "code",
      "execution_count": null,
      "metadata": {
        "colab": {
          "base_uri": "https://localhost:8080/"
        },
        "id": "InUNCo2xMZoD",
        "outputId": "f4df3d6f-d56a-4b32-81da-a670e2b810ff"
      },
      "outputs": [
        {
          "name": "stdout",
          "output_type": "stream",
          "text": [
            "what is your name tony\n"
          ]
        }
      ],
      "source": [
        "name = input('what is your name ')"
      ]
    },
    {
      "cell_type": "code",
      "execution_count": null,
      "metadata": {
        "colab": {
          "base_uri": "https://localhost:8080/"
        },
        "id": "58B-OXYXNiMr",
        "outputId": "09cbf1cf-2d79-4084-8b36-ad09a00ab87d"
      },
      "outputs": [
        {
          "name": "stdout",
          "output_type": "stream",
          "text": [
            "My name is: tony\n"
          ]
        }
      ],
      "source": [
        "print('My name is:',name)"
      ]
    },
    {
      "cell_type": "markdown",
      "metadata": {
        "id": "sZ22IHH4OIGk"
      },
      "source": [
        "# Logical operator"
      ]
    },
    {
      "cell_type": "markdown",
      "metadata": {
        "id": "MOAFGphQOWN9"
      },
      "source": [
        "- addition\n",
        "\n",
        "- substraction\n",
        "\n",
        "- division\n",
        "\n",
        "- multiplication\n",
        "\n",
        "- modulus\n",
        "\n"
      ]
    },
    {
      "cell_type": "markdown",
      "metadata": {
        "id": "zr1beyuEO_0R"
      },
      "source": [
        "#  addition"
      ]
    },
    {
      "cell_type": "code",
      "execution_count": null,
      "metadata": {
        "colab": {
          "base_uri": "https://localhost:8080/"
        },
        "id": "gUluR4xKOUI0",
        "outputId": "09e49791-4527-4d73-f382-c67523d45d39"
      },
      "outputs": [
        {
          "name": "stdout",
          "output_type": "stream",
          "text": [
            "enter grade math 80\n",
            "enter grade physics 90\n",
            "my average grade is  85.0\n"
          ]
        }
      ],
      "source": [
        "grade_math = int(input(\"enter grade math \"))\n",
        "grade_physics = int(input(\"enter grade physics \"))\n",
        "average_gradde = (grade_math+grade_physics)/2\n",
        "print(\"my average grade is \",average_gradde)"
      ]
    },
    {
      "cell_type": "markdown",
      "metadata": {
        "id": "RlF8Wy3nO7t6"
      },
      "source": [
        "# conditional statements\n",
        "\n",
        "if else statement"
      ]
    },
    {
      "cell_type": "code",
      "execution_count": null,
      "metadata": {
        "colab": {
          "base_uri": "https://localhost:8080/"
        },
        "id": "KywAUYqyVUjQ",
        "outputId": "ac754bb4-522b-422e-85fe-7a888f46d66f"
      },
      "outputs": [
        {
          "name": "stdout",
          "output_type": "stream",
          "text": [
            "enter a number:46\n",
            "even number\n"
          ]
        }
      ],
      "source": [
        "number = int(input('enter a number:'))\n",
        "if (number % 2 ==1):\n",
        "  print(\"odd number\")\n",
        "else:\n",
        "    print(\"even number\")\n"
      ]
    },
    {
      "cell_type": "markdown",
      "metadata": {
        "id": "e797OrNLQePU"
      },
      "source": [
        "# Data structures"
      ]
    },
    {
      "cell_type": "markdown",
      "metadata": {
        "id": "k0cVbyl0QF52"
      },
      "source": [
        "- List : is a collection of mutabe items    of different data type\n",
        "\n",
        "declare name_of_variable =[item1,item2,item2, .......]"
      ]
    },
    {
      "cell_type": "code",
      "execution_count": null,
      "metadata": {
        "id": "csyPn7K7Qn-T"
      },
      "outputs": [],
      "source": [
        "fruits=['banana','mango','orange',67,'A',True]"
      ]
    },
    {
      "cell_type": "code",
      "execution_count": null,
      "metadata": {
        "colab": {
          "base_uri": "https://localhost:8080/",
          "height": 35
        },
        "id": "UlzhjqbURFr6",
        "outputId": "0e7a1adf-0485-4120-9f29-28c17a280e62"
      },
      "outputs": [
        {
          "data": {
            "application/vnd.google.colaboratory.intrinsic+json": {
              "type": "string"
            },
            "text/plain": [
              "'banana'"
            ]
          },
          "execution_count": 3,
          "metadata": {},
          "output_type": "execute_result"
        }
      ],
      "source": [
        "fruits[0]"
      ]
    },
    {
      "cell_type": "code",
      "execution_count": null,
      "metadata": {
        "colab": {
          "base_uri": "https://localhost:8080/",
          "height": 35
        },
        "id": "AZXG8eV4RR_r",
        "outputId": "19edc7b1-df6b-4f0d-9255-09274ae1ca9d"
      },
      "outputs": [
        {
          "data": {
            "application/vnd.google.colaboratory.intrinsic+json": {
              "type": "string"
            },
            "text/plain": [
              "'mango'"
            ]
          },
          "execution_count": 4,
          "metadata": {},
          "output_type": "execute_result"
        }
      ],
      "source": [
        "fruits[1]"
      ]
    },
    {
      "cell_type": "code",
      "execution_count": null,
      "metadata": {
        "colab": {
          "base_uri": "https://localhost:8080/",
          "height": 35
        },
        "id": "44PBKBktRb-j",
        "outputId": "2a1c5962-5625-48a5-b0e0-2e9dcd663210"
      },
      "outputs": [
        {
          "data": {
            "application/vnd.google.colaboratory.intrinsic+json": {
              "type": "string"
            },
            "text/plain": [
              "'orange'"
            ]
          },
          "execution_count": 5,
          "metadata": {},
          "output_type": "execute_result"
        }
      ],
      "source": [
        "fruits[2]"
      ]
    },
    {
      "cell_type": "code",
      "execution_count": null,
      "metadata": {
        "colab": {
          "base_uri": "https://localhost:8080/"
        },
        "id": "_hyc0mmARhAt",
        "outputId": "f396a8d1-7e37-4030-9830-7c5bd64b178f"
      },
      "outputs": [
        {
          "data": {
            "text/plain": [
              "True"
            ]
          },
          "execution_count": 7,
          "metadata": {},
          "output_type": "execute_result"
        }
      ],
      "source": [
        "fruits[5]"
      ]
    },
    {
      "cell_type": "markdown",
      "metadata": {
        "id": "QLwmgFVcRrEK"
      },
      "source": [
        "ADD a new items in the list"
      ]
    },
    {
      "cell_type": "code",
      "execution_count": null,
      "metadata": {
        "id": "E2ymaliKRwKk"
      },
      "outputs": [],
      "source": [
        "fruits.append('car')"
      ]
    },
    {
      "cell_type": "code",
      "execution_count": null,
      "metadata": {
        "colab": {
          "base_uri": "https://localhost:8080/"
        },
        "id": "f7KNwkh0R5K9",
        "outputId": "4664ee4f-5e50-4ea4-d9ab-618208ee791d"
      },
      "outputs": [
        {
          "data": {
            "text/plain": [
              "['banana', 'mango', 'orange', 67, 'A', True, 'car']"
            ]
          },
          "execution_count": 9,
          "metadata": {},
          "output_type": "execute_result"
        }
      ],
      "source": [
        "fruits"
      ]
    },
    {
      "cell_type": "markdown",
      "metadata": {
        "id": "4lX8T55VSCsn"
      },
      "source": [
        "- print each item in the list we are going to use a loop"
      ]
    },
    {
      "cell_type": "code",
      "execution_count": null,
      "metadata": {
        "colab": {
          "base_uri": "https://localhost:8080/"
        },
        "id": "Ro2bYhOCR-Ec",
        "outputId": "ceb9cc94-a865-4e66-89b2-508d7c9a7be1"
      },
      "outputs": [
        {
          "data": {
            "text/plain": [
              "6"
            ]
          },
          "execution_count": 10,
          "metadata": {},
          "output_type": "execute_result"
        }
      ],
      "source": [
        "fruits.index('car')"
      ]
    },
    {
      "cell_type": "code",
      "execution_count": null,
      "metadata": {
        "colab": {
          "base_uri": "https://localhost:8080/"
        },
        "id": "ZCy7Uz7nSWKB",
        "outputId": "bc5823f1-0d28-4f0e-887a-4a8e66a9f702"
      },
      "outputs": [
        {
          "data": {
            "text/plain": [
              "5"
            ]
          },
          "execution_count": 11,
          "metadata": {},
          "output_type": "execute_result"
        }
      ],
      "source": [
        "fruits.index(True)"
      ]
    },
    {
      "cell_type": "markdown",
      "metadata": {
        "id": "v2YC__hlSgkx"
      },
      "source": [
        "- Remove a item in the list"
      ]
    },
    {
      "cell_type": "code",
      "execution_count": null,
      "metadata": {
        "id": "MplQMeymSmXN"
      },
      "outputs": [],
      "source": [
        "fruits.remove('car')"
      ]
    },
    {
      "cell_type": "code",
      "execution_count": null,
      "metadata": {
        "colab": {
          "base_uri": "https://localhost:8080/"
        },
        "id": "-lyfaI6TSxh5",
        "outputId": "41940af2-f9d1-4630-e5db-2a2ecb9a9e51"
      },
      "outputs": [
        {
          "data": {
            "text/plain": [
              "['banana', 'mango', 'orange', 67, 'A', True]"
            ]
          },
          "execution_count": 14,
          "metadata": {},
          "output_type": "execute_result"
        }
      ],
      "source": [
        "fruits"
      ]
    },
    {
      "cell_type": "markdown",
      "metadata": {
        "id": "gP5nTnBYS-YL"
      },
      "source": [
        "- Tuple is similar to list but it is not mutable"
      ]
    },
    {
      "cell_type": "code",
      "execution_count": null,
      "metadata": {
        "id": "fDEBZHTnTIup"
      },
      "outputs": [],
      "source": [
        "grade = ('math',87,'physics',50)"
      ]
    },
    {
      "cell_type": "code",
      "execution_count": null,
      "metadata": {
        "colab": {
          "base_uri": "https://localhost:8080/"
        },
        "id": "VKWaL4NkTfY9",
        "outputId": "c363a4fc-a799-4eca-cdbf-f7e1f588ebc9"
      },
      "outputs": [
        {
          "data": {
            "text/plain": [
              "('math', 87, 'physics', 50)"
            ]
          },
          "execution_count": 16,
          "metadata": {},
          "output_type": "execute_result"
        }
      ],
      "source": [
        "grade"
      ]
    },
    {
      "cell_type": "code",
      "execution_count": null,
      "metadata": {
        "colab": {
          "base_uri": "https://localhost:8080/"
        },
        "id": "fJfCECxETm6f",
        "outputId": "fce6d49a-f425-4041-ff32-b0a5f5fc8b0e"
      },
      "outputs": [
        {
          "data": {
            "text/plain": [
              "tuple"
            ]
          },
          "execution_count": 17,
          "metadata": {},
          "output_type": "execute_result"
        }
      ],
      "source": [
        "type(grade)"
      ]
    },
    {
      "cell_type": "markdown",
      "metadata": {
        "id": "wwduqSAhTtqW"
      },
      "source": [
        "- Dictionary  a collection of key pair items"
      ]
    },
    {
      "cell_type": "code",
      "execution_count": null,
      "metadata": {
        "id": "5KZm4xwwT4sg"
      },
      "outputs": [],
      "source": [
        "grade = {\"math\":82,'physics':85, 'programming':74}"
      ]
    },
    {
      "cell_type": "code",
      "execution_count": null,
      "metadata": {
        "colab": {
          "base_uri": "https://localhost:8080/"
        },
        "id": "UfL6ms6WUNZu",
        "outputId": "df086d6c-f2f8-4fe8-8773-b25b73466b9a"
      },
      "outputs": [
        {
          "data": {
            "text/plain": [
              "74"
            ]
          },
          "execution_count": 19,
          "metadata": {},
          "output_type": "execute_result"
        }
      ],
      "source": [
        "grade['programming']"
      ]
    },
    {
      "cell_type": "code",
      "execution_count": null,
      "metadata": {
        "colab": {
          "base_uri": "https://localhost:8080/"
        },
        "id": "BrbykS3MUYQv",
        "outputId": "d6641838-90e9-40d9-ad38-59875e0da25d"
      },
      "outputs": [
        {
          "data": {
            "text/plain": [
              "85"
            ]
          },
          "execution_count": 20,
          "metadata": {},
          "output_type": "execute_result"
        }
      ],
      "source": [
        "grade['physics']"
      ]
    },
    {
      "cell_type": "markdown",
      "metadata": {
        "id": "XVqeVQJwUjiO"
      },
      "source": [
        "csv, excel file , python library called pandas (python for data analysis)"
      ]
    },
    {
      "cell_type": "code",
      "execution_count": null,
      "metadata": {
        "id": "_jPYeHSEVY2D"
      },
      "outputs": [],
      "source": [
        "import pandas as pd"
      ]
    },
    {
      "cell_type": "code",
      "execution_count": null,
      "metadata": {
        "id": "auj2EwJxVeeC"
      },
      "outputs": [],
      "source": [
        "data = pd.read_csv(\"/content/customers-100000.csv\")"
      ]
    },
    {
      "cell_type": "code",
      "execution_count": null,
      "metadata": {
        "colab": {
          "base_uri": "https://localhost:8080/",
          "height": 713
        },
        "id": "iBuWrRasVpyt",
        "outputId": "70ce676f-3b7f-4f5e-e64e-9b41cfaee10e"
      },
      "outputs": [
        {
          "data": {
            "application/vnd.google.colaboratory.intrinsic+json": {
              "summary": "{\n  \"name\": \"data\",\n  \"rows\": 100000,\n  \"fields\": [\n    {\n      \"column\": \"Index\",\n      \"properties\": {\n        \"dtype\": \"number\",\n        \"std\": 28867,\n        \"min\": 1,\n        \"max\": 100000,\n        \"num_unique_values\": 100000,\n        \"samples\": [\n          75722,\n          80185,\n          19865\n        ],\n        \"semantic_type\": \"\",\n        \"description\": \"\"\n      }\n    },\n    {\n      \"column\": \"Customer Id\",\n      \"properties\": {\n        \"dtype\": \"string\",\n        \"num_unique_values\": 100000,\n        \"samples\": [\n          \"D65B7865d99f2Ae\",\n          \"c83d188D8d2b3f0\",\n          \"33b441d55D1f58C\"\n        ],\n        \"semantic_type\": \"\",\n        \"description\": \"\"\n      }\n    },\n    {\n      \"column\": \"First Name\",\n      \"properties\": {\n        \"dtype\": \"category\",\n        \"num_unique_values\": 690,\n        \"samples\": [\n          \"Daniel\",\n          \"Gabriel\",\n          \"Bethany\"\n        ],\n        \"semantic_type\": \"\",\n        \"description\": \"\"\n      }\n    },\n    {\n      \"column\": \"Last Name\",\n      \"properties\": {\n        \"dtype\": \"category\",\n        \"num_unique_values\": 1000,\n        \"samples\": [\n          \"Wells\",\n          \"Stephens\",\n          \"Aguirre\"\n        ],\n        \"semantic_type\": \"\",\n        \"description\": \"\"\n      }\n    },\n    {\n      \"column\": \"Company\",\n      \"properties\": {\n        \"dtype\": \"string\",\n        \"num_unique_values\": 71994,\n        \"samples\": [\n          \"Christian Group\",\n          \"Mclaughlin, Parsons and Dickson\",\n          \"Wolfe-Mcclure\"\n        ],\n        \"semantic_type\": \"\",\n        \"description\": \"\"\n      }\n    },\n    {\n      \"column\": \"City\",\n      \"properties\": {\n        \"dtype\": \"category\",\n        \"num_unique_values\": 49154,\n        \"samples\": [\n          \"Aimeetown\",\n          \"West Angiebury\",\n          \"East Franklinfurt\"\n        ],\n        \"semantic_type\": \"\",\n        \"description\": \"\"\n      }\n    },\n    {\n      \"column\": \"Country\",\n      \"properties\": {\n        \"dtype\": \"category\",\n        \"num_unique_values\": 243,\n        \"samples\": [\n          \"Saint Helena\",\n          \"United States of America\",\n          \"Zimbabwe\"\n        ],\n        \"semantic_type\": \"\",\n        \"description\": \"\"\n      }\n    },\n    {\n      \"column\": \"Phone 1\",\n      \"properties\": {\n        \"dtype\": \"string\",\n        \"num_unique_values\": 100000,\n        \"samples\": [\n          \"(494)872-3218x889\",\n          \"364-909-4472x1735\",\n          \"(832)389-8929x696\"\n        ],\n        \"semantic_type\": \"\",\n        \"description\": \"\"\n      }\n    },\n    {\n      \"column\": \"Phone 2\",\n      \"properties\": {\n        \"dtype\": \"string\",\n        \"num_unique_values\": 100000,\n        \"samples\": [\n          \"890-356-6294x31628\",\n          \"546.843.0082\",\n          \"3242250028\"\n        ],\n        \"semantic_type\": \"\",\n        \"description\": \"\"\n      }\n    },\n    {\n      \"column\": \"Email\",\n      \"properties\": {\n        \"dtype\": \"string\",\n        \"num_unique_values\": 99995,\n        \"samples\": [\n          \"ewilkinson@greene.com\",\n          \"ifuller@berry.com\",\n          \"abigaillozano@wheeler-waller.info\"\n        ],\n        \"semantic_type\": \"\",\n        \"description\": \"\"\n      }\n    },\n    {\n      \"column\": \"Subscription Date\",\n      \"properties\": {\n        \"dtype\": \"object\",\n        \"num_unique_values\": 880,\n        \"samples\": [\n          \"2020-01-18\",\n          \"2020-11-15\",\n          \"2022-03-03\"\n        ],\n        \"semantic_type\": \"\",\n        \"description\": \"\"\n      }\n    },\n    {\n      \"column\": \"Website\",\n      \"properties\": {\n        \"dtype\": \"string\",\n        \"num_unique_values\": 50471,\n        \"samples\": [\n          \"https://www.hess-mcdonald.com/\",\n          \"http://www.friedman-walker.info/\",\n          \"https://becker.net/\"\n        ],\n        \"semantic_type\": \"\",\n        \"description\": \"\"\n      }\n    }\n  ]\n}",
              "type": "dataframe",
              "variable_name": "data"
            },
            "text/html": [
              "\n",
              "  <div id=\"df-349d098e-2d98-4357-9800-13be05bef84e\" class=\"colab-df-container\">\n",
              "    <div>\n",
              "<style scoped>\n",
              "    .dataframe tbody tr th:only-of-type {\n",
              "        vertical-align: middle;\n",
              "    }\n",
              "\n",
              "    .dataframe tbody tr th {\n",
              "        vertical-align: top;\n",
              "    }\n",
              "\n",
              "    .dataframe thead th {\n",
              "        text-align: right;\n",
              "    }\n",
              "</style>\n",
              "<table border=\"1\" class=\"dataframe\">\n",
              "  <thead>\n",
              "    <tr style=\"text-align: right;\">\n",
              "      <th></th>\n",
              "      <th>Index</th>\n",
              "      <th>Customer Id</th>\n",
              "      <th>First Name</th>\n",
              "      <th>Last Name</th>\n",
              "      <th>Company</th>\n",
              "      <th>City</th>\n",
              "      <th>Country</th>\n",
              "      <th>Phone 1</th>\n",
              "      <th>Phone 2</th>\n",
              "      <th>Email</th>\n",
              "      <th>Subscription Date</th>\n",
              "      <th>Website</th>\n",
              "    </tr>\n",
              "  </thead>\n",
              "  <tbody>\n",
              "    <tr>\n",
              "      <th>0</th>\n",
              "      <td>1</td>\n",
              "      <td>ffeCAb7AbcB0f07</td>\n",
              "      <td>Jared</td>\n",
              "      <td>Jarvis</td>\n",
              "      <td>Sanchez-Fletcher</td>\n",
              "      <td>Hatfieldshire</td>\n",
              "      <td>Eritrea</td>\n",
              "      <td>274.188.8773x41185</td>\n",
              "      <td>001-215-760-4642x969</td>\n",
              "      <td>gabriellehartman@benjamin.com</td>\n",
              "      <td>2021-11-11</td>\n",
              "      <td>https://www.mccarthy.info/</td>\n",
              "    </tr>\n",
              "    <tr>\n",
              "      <th>1</th>\n",
              "      <td>2</td>\n",
              "      <td>b687FfC4F1600eC</td>\n",
              "      <td>Marie</td>\n",
              "      <td>Malone</td>\n",
              "      <td>Mckay PLC</td>\n",
              "      <td>Robertsonburgh</td>\n",
              "      <td>Botswana</td>\n",
              "      <td>283-236-9529</td>\n",
              "      <td>(189)129-8356x63741</td>\n",
              "      <td>kstafford@sexton.com</td>\n",
              "      <td>2021-05-14</td>\n",
              "      <td>http://www.reynolds.com/</td>\n",
              "    </tr>\n",
              "    <tr>\n",
              "      <th>2</th>\n",
              "      <td>3</td>\n",
              "      <td>9FF9ACbc69dcF9c</td>\n",
              "      <td>Elijah</td>\n",
              "      <td>Barrera</td>\n",
              "      <td>Marks and Sons</td>\n",
              "      <td>Kimbury</td>\n",
              "      <td>Barbados</td>\n",
              "      <td>8252703789</td>\n",
              "      <td>459-916-7241x0909</td>\n",
              "      <td>jeanettecross@brown.com</td>\n",
              "      <td>2021-03-17</td>\n",
              "      <td>https://neal.com/</td>\n",
              "    </tr>\n",
              "    <tr>\n",
              "      <th>3</th>\n",
              "      <td>4</td>\n",
              "      <td>b49edDB1295FF6E</td>\n",
              "      <td>Sheryl</td>\n",
              "      <td>Montgomery</td>\n",
              "      <td>Kirby, Vaughn and Sanders</td>\n",
              "      <td>Briannaview</td>\n",
              "      <td>Antarctica (the territory South of 60 deg S)</td>\n",
              "      <td>425.475.3586</td>\n",
              "      <td>(392)819-9063</td>\n",
              "      <td>thomassierra@barrett.com</td>\n",
              "      <td>2020-09-23</td>\n",
              "      <td>https://www.powell-bryan.com/</td>\n",
              "    </tr>\n",
              "    <tr>\n",
              "      <th>4</th>\n",
              "      <td>5</td>\n",
              "      <td>3dcCbFEB17CCf2E</td>\n",
              "      <td>Jeremy</td>\n",
              "      <td>Houston</td>\n",
              "      <td>Lester-Manning</td>\n",
              "      <td>South Brianna</td>\n",
              "      <td>Micronesia</td>\n",
              "      <td>+1-223-666-5313x4530</td>\n",
              "      <td>252-488-3850x692</td>\n",
              "      <td>rubenwatkins@jacobs-wallace.info</td>\n",
              "      <td>2020-09-18</td>\n",
              "      <td>https://www.carrillo.com/</td>\n",
              "    </tr>\n",
              "    <tr>\n",
              "      <th>5</th>\n",
              "      <td>6</td>\n",
              "      <td>75bEe1B33E517AF</td>\n",
              "      <td>Frank</td>\n",
              "      <td>Villarreal</td>\n",
              "      <td>Craig, Dennis and Maddox</td>\n",
              "      <td>Reidtown</td>\n",
              "      <td>Panama</td>\n",
              "      <td>+1-165-340-7100x44099</td>\n",
              "      <td>(847)867-2795x043</td>\n",
              "      <td>gmurillo@perez.com</td>\n",
              "      <td>2022-01-13</td>\n",
              "      <td>https://patel.org/</td>\n",
              "    </tr>\n",
              "    <tr>\n",
              "      <th>6</th>\n",
              "      <td>7</td>\n",
              "      <td>CB8b29B8Fbbbe58</td>\n",
              "      <td>Rickey</td>\n",
              "      <td>Fox</td>\n",
              "      <td>Benson, Gray and Fitzpatrick</td>\n",
              "      <td>Mcintoshberg</td>\n",
              "      <td>United States of America</td>\n",
              "      <td>426.446.3838</td>\n",
              "      <td>437.476.4705</td>\n",
              "      <td>melissabenitez@le.info</td>\n",
              "      <td>2021-11-05</td>\n",
              "      <td>http://www.irwin-donaldson.com/</td>\n",
              "    </tr>\n",
              "    <tr>\n",
              "      <th>7</th>\n",
              "      <td>8</td>\n",
              "      <td>56b3cEA1E6A49F1</td>\n",
              "      <td>Barry</td>\n",
              "      <td>Ware</td>\n",
              "      <td>Glenn Ltd</td>\n",
              "      <td>Lake Pedrofort</td>\n",
              "      <td>American Samoa</td>\n",
              "      <td>101-419-0208x043</td>\n",
              "      <td>931.542.3115x98926</td>\n",
              "      <td>brent60@lopez.com</td>\n",
              "      <td>2022-05-12</td>\n",
              "      <td>https://www.bean.biz/</td>\n",
              "    </tr>\n",
              "    <tr>\n",
              "      <th>8</th>\n",
              "      <td>9</td>\n",
              "      <td>f9443f5f6AF0Da0</td>\n",
              "      <td>Carl</td>\n",
              "      <td>Mcdowell</td>\n",
              "      <td>Davila-Leach</td>\n",
              "      <td>Petersbury</td>\n",
              "      <td>Saint Vincent and the Grenadines</td>\n",
              "      <td>+1-740-392-0511</td>\n",
              "      <td>+1-218-891-5403x7270</td>\n",
              "      <td>toddharris@lowery-rosario.biz</td>\n",
              "      <td>2022-05-28</td>\n",
              "      <td>https://www.burnett.com/</td>\n",
              "    </tr>\n",
              "    <tr>\n",
              "      <th>9</th>\n",
              "      <td>10</td>\n",
              "      <td>C99b63E0d92C565</td>\n",
              "      <td>Pam</td>\n",
              "      <td>Dalton</td>\n",
              "      <td>Mckenzie Ltd</td>\n",
              "      <td>Hillside</td>\n",
              "      <td>Tanzania</td>\n",
              "      <td>0389689232</td>\n",
              "      <td>344-952-1181x6911</td>\n",
              "      <td>carolbanks@vang-stafford.com</td>\n",
              "      <td>2022-03-04</td>\n",
              "      <td>http://www.maxwell-bradford.com/</td>\n",
              "    </tr>\n",
              "  </tbody>\n",
              "</table>\n",
              "</div>\n",
              "    <div class=\"colab-df-buttons\">\n",
              "\n",
              "  <div class=\"colab-df-container\">\n",
              "    <button class=\"colab-df-convert\" onclick=\"convertToInteractive('df-349d098e-2d98-4357-9800-13be05bef84e')\"\n",
              "            title=\"Convert this dataframe to an interactive table.\"\n",
              "            style=\"display:none;\">\n",
              "\n",
              "  <svg xmlns=\"http://www.w3.org/2000/svg\" height=\"24px\" viewBox=\"0 -960 960 960\">\n",
              "    <path d=\"M120-120v-720h720v720H120Zm60-500h600v-160H180v160Zm220 220h160v-160H400v160Zm0 220h160v-160H400v160ZM180-400h160v-160H180v160Zm440 0h160v-160H620v160ZM180-180h160v-160H180v160Zm440 0h160v-160H620v160Z\"/>\n",
              "  </svg>\n",
              "    </button>\n",
              "\n",
              "  <style>\n",
              "    .colab-df-container {\n",
              "      display:flex;\n",
              "      gap: 12px;\n",
              "    }\n",
              "\n",
              "    .colab-df-convert {\n",
              "      background-color: #E8F0FE;\n",
              "      border: none;\n",
              "      border-radius: 50%;\n",
              "      cursor: pointer;\n",
              "      display: none;\n",
              "      fill: #1967D2;\n",
              "      height: 32px;\n",
              "      padding: 0 0 0 0;\n",
              "      width: 32px;\n",
              "    }\n",
              "\n",
              "    .colab-df-convert:hover {\n",
              "      background-color: #E2EBFA;\n",
              "      box-shadow: 0px 1px 2px rgba(60, 64, 67, 0.3), 0px 1px 3px 1px rgba(60, 64, 67, 0.15);\n",
              "      fill: #174EA6;\n",
              "    }\n",
              "\n",
              "    .colab-df-buttons div {\n",
              "      margin-bottom: 4px;\n",
              "    }\n",
              "\n",
              "    [theme=dark] .colab-df-convert {\n",
              "      background-color: #3B4455;\n",
              "      fill: #D2E3FC;\n",
              "    }\n",
              "\n",
              "    [theme=dark] .colab-df-convert:hover {\n",
              "      background-color: #434B5C;\n",
              "      box-shadow: 0px 1px 3px 1px rgba(0, 0, 0, 0.15);\n",
              "      filter: drop-shadow(0px 1px 2px rgba(0, 0, 0, 0.3));\n",
              "      fill: #FFFFFF;\n",
              "    }\n",
              "  </style>\n",
              "\n",
              "    <script>\n",
              "      const buttonEl =\n",
              "        document.querySelector('#df-349d098e-2d98-4357-9800-13be05bef84e button.colab-df-convert');\n",
              "      buttonEl.style.display =\n",
              "        google.colab.kernel.accessAllowed ? 'block' : 'none';\n",
              "\n",
              "      async function convertToInteractive(key) {\n",
              "        const element = document.querySelector('#df-349d098e-2d98-4357-9800-13be05bef84e');\n",
              "        const dataTable =\n",
              "          await google.colab.kernel.invokeFunction('convertToInteractive',\n",
              "                                                    [key], {});\n",
              "        if (!dataTable) return;\n",
              "\n",
              "        const docLinkHtml = 'Like what you see? Visit the ' +\n",
              "          '<a target=\"_blank\" href=https://colab.research.google.com/notebooks/data_table.ipynb>data table notebook</a>'\n",
              "          + ' to learn more about interactive tables.';\n",
              "        element.innerHTML = '';\n",
              "        dataTable['output_type'] = 'display_data';\n",
              "        await google.colab.output.renderOutput(dataTable, element);\n",
              "        const docLink = document.createElement('div');\n",
              "        docLink.innerHTML = docLinkHtml;\n",
              "        element.appendChild(docLink);\n",
              "      }\n",
              "    </script>\n",
              "  </div>\n",
              "\n",
              "\n",
              "<div id=\"df-4f8b2d76-a171-4df1-a4df-ad24ec05075d\">\n",
              "  <button class=\"colab-df-quickchart\" onclick=\"quickchart('df-4f8b2d76-a171-4df1-a4df-ad24ec05075d')\"\n",
              "            title=\"Suggest charts\"\n",
              "            style=\"display:none;\">\n",
              "\n",
              "<svg xmlns=\"http://www.w3.org/2000/svg\" height=\"24px\"viewBox=\"0 0 24 24\"\n",
              "     width=\"24px\">\n",
              "    <g>\n",
              "        <path d=\"M19 3H5c-1.1 0-2 .9-2 2v14c0 1.1.9 2 2 2h14c1.1 0 2-.9 2-2V5c0-1.1-.9-2-2-2zM9 17H7v-7h2v7zm4 0h-2V7h2v10zm4 0h-2v-4h2v4z\"/>\n",
              "    </g>\n",
              "</svg>\n",
              "  </button>\n",
              "\n",
              "<style>\n",
              "  .colab-df-quickchart {\n",
              "      --bg-color: #E8F0FE;\n",
              "      --fill-color: #1967D2;\n",
              "      --hover-bg-color: #E2EBFA;\n",
              "      --hover-fill-color: #174EA6;\n",
              "      --disabled-fill-color: #AAA;\n",
              "      --disabled-bg-color: #DDD;\n",
              "  }\n",
              "\n",
              "  [theme=dark] .colab-df-quickchart {\n",
              "      --bg-color: #3B4455;\n",
              "      --fill-color: #D2E3FC;\n",
              "      --hover-bg-color: #434B5C;\n",
              "      --hover-fill-color: #FFFFFF;\n",
              "      --disabled-bg-color: #3B4455;\n",
              "      --disabled-fill-color: #666;\n",
              "  }\n",
              "\n",
              "  .colab-df-quickchart {\n",
              "    background-color: var(--bg-color);\n",
              "    border: none;\n",
              "    border-radius: 50%;\n",
              "    cursor: pointer;\n",
              "    display: none;\n",
              "    fill: var(--fill-color);\n",
              "    height: 32px;\n",
              "    padding: 0;\n",
              "    width: 32px;\n",
              "  }\n",
              "\n",
              "  .colab-df-quickchart:hover {\n",
              "    background-color: var(--hover-bg-color);\n",
              "    box-shadow: 0 1px 2px rgba(60, 64, 67, 0.3), 0 1px 3px 1px rgba(60, 64, 67, 0.15);\n",
              "    fill: var(--button-hover-fill-color);\n",
              "  }\n",
              "\n",
              "  .colab-df-quickchart-complete:disabled,\n",
              "  .colab-df-quickchart-complete:disabled:hover {\n",
              "    background-color: var(--disabled-bg-color);\n",
              "    fill: var(--disabled-fill-color);\n",
              "    box-shadow: none;\n",
              "  }\n",
              "\n",
              "  .colab-df-spinner {\n",
              "    border: 2px solid var(--fill-color);\n",
              "    border-color: transparent;\n",
              "    border-bottom-color: var(--fill-color);\n",
              "    animation:\n",
              "      spin 1s steps(1) infinite;\n",
              "  }\n",
              "\n",
              "  @keyframes spin {\n",
              "    0% {\n",
              "      border-color: transparent;\n",
              "      border-bottom-color: var(--fill-color);\n",
              "      border-left-color: var(--fill-color);\n",
              "    }\n",
              "    20% {\n",
              "      border-color: transparent;\n",
              "      border-left-color: var(--fill-color);\n",
              "      border-top-color: var(--fill-color);\n",
              "    }\n",
              "    30% {\n",
              "      border-color: transparent;\n",
              "      border-left-color: var(--fill-color);\n",
              "      border-top-color: var(--fill-color);\n",
              "      border-right-color: var(--fill-color);\n",
              "    }\n",
              "    40% {\n",
              "      border-color: transparent;\n",
              "      border-right-color: var(--fill-color);\n",
              "      border-top-color: var(--fill-color);\n",
              "    }\n",
              "    60% {\n",
              "      border-color: transparent;\n",
              "      border-right-color: var(--fill-color);\n",
              "    }\n",
              "    80% {\n",
              "      border-color: transparent;\n",
              "      border-right-color: var(--fill-color);\n",
              "      border-bottom-color: var(--fill-color);\n",
              "    }\n",
              "    90% {\n",
              "      border-color: transparent;\n",
              "      border-bottom-color: var(--fill-color);\n",
              "    }\n",
              "  }\n",
              "</style>\n",
              "\n",
              "  <script>\n",
              "    async function quickchart(key) {\n",
              "      const quickchartButtonEl =\n",
              "        document.querySelector('#' + key + ' button');\n",
              "      quickchartButtonEl.disabled = true;  // To prevent multiple clicks.\n",
              "      quickchartButtonEl.classList.add('colab-df-spinner');\n",
              "      try {\n",
              "        const charts = await google.colab.kernel.invokeFunction(\n",
              "            'suggestCharts', [key], {});\n",
              "      } catch (error) {\n",
              "        console.error('Error during call to suggestCharts:', error);\n",
              "      }\n",
              "      quickchartButtonEl.classList.remove('colab-df-spinner');\n",
              "      quickchartButtonEl.classList.add('colab-df-quickchart-complete');\n",
              "    }\n",
              "    (() => {\n",
              "      let quickchartButtonEl =\n",
              "        document.querySelector('#df-4f8b2d76-a171-4df1-a4df-ad24ec05075d button');\n",
              "      quickchartButtonEl.style.display =\n",
              "        google.colab.kernel.accessAllowed ? 'block' : 'none';\n",
              "    })();\n",
              "  </script>\n",
              "</div>\n",
              "\n",
              "    </div>\n",
              "  </div>\n"
            ],
            "text/plain": [
              "   Index      Customer Id First Name   Last Name  \\\n",
              "0      1  ffeCAb7AbcB0f07      Jared      Jarvis   \n",
              "1      2  b687FfC4F1600eC      Marie      Malone   \n",
              "2      3  9FF9ACbc69dcF9c     Elijah     Barrera   \n",
              "3      4  b49edDB1295FF6E     Sheryl  Montgomery   \n",
              "4      5  3dcCbFEB17CCf2E     Jeremy     Houston   \n",
              "5      6  75bEe1B33E517AF      Frank  Villarreal   \n",
              "6      7  CB8b29B8Fbbbe58     Rickey         Fox   \n",
              "7      8  56b3cEA1E6A49F1      Barry        Ware   \n",
              "8      9  f9443f5f6AF0Da0       Carl    Mcdowell   \n",
              "9     10  C99b63E0d92C565        Pam      Dalton   \n",
              "\n",
              "                        Company            City  \\\n",
              "0              Sanchez-Fletcher   Hatfieldshire   \n",
              "1                     Mckay PLC  Robertsonburgh   \n",
              "2                Marks and Sons         Kimbury   \n",
              "3     Kirby, Vaughn and Sanders     Briannaview   \n",
              "4                Lester-Manning   South Brianna   \n",
              "5      Craig, Dennis and Maddox        Reidtown   \n",
              "6  Benson, Gray and Fitzpatrick    Mcintoshberg   \n",
              "7                     Glenn Ltd  Lake Pedrofort   \n",
              "8                  Davila-Leach      Petersbury   \n",
              "9                  Mckenzie Ltd        Hillside   \n",
              "\n",
              "                                        Country                Phone 1  \\\n",
              "0                                       Eritrea     274.188.8773x41185   \n",
              "1                                      Botswana           283-236-9529   \n",
              "2                                      Barbados             8252703789   \n",
              "3  Antarctica (the territory South of 60 deg S)           425.475.3586   \n",
              "4                                    Micronesia   +1-223-666-5313x4530   \n",
              "5                                        Panama  +1-165-340-7100x44099   \n",
              "6                      United States of America           426.446.3838   \n",
              "7                                American Samoa       101-419-0208x043   \n",
              "8              Saint Vincent and the Grenadines        +1-740-392-0511   \n",
              "9                                      Tanzania             0389689232   \n",
              "\n",
              "                Phone 2                             Email Subscription Date  \\\n",
              "0  001-215-760-4642x969     gabriellehartman@benjamin.com        2021-11-11   \n",
              "1   (189)129-8356x63741              kstafford@sexton.com        2021-05-14   \n",
              "2     459-916-7241x0909           jeanettecross@brown.com        2021-03-17   \n",
              "3         (392)819-9063          thomassierra@barrett.com        2020-09-23   \n",
              "4      252-488-3850x692  rubenwatkins@jacobs-wallace.info        2020-09-18   \n",
              "5     (847)867-2795x043                gmurillo@perez.com        2022-01-13   \n",
              "6          437.476.4705            melissabenitez@le.info        2021-11-05   \n",
              "7    931.542.3115x98926                 brent60@lopez.com        2022-05-12   \n",
              "8  +1-218-891-5403x7270     toddharris@lowery-rosario.biz        2022-05-28   \n",
              "9     344-952-1181x6911      carolbanks@vang-stafford.com        2022-03-04   \n",
              "\n",
              "                            Website  \n",
              "0        https://www.mccarthy.info/  \n",
              "1          http://www.reynolds.com/  \n",
              "2                 https://neal.com/  \n",
              "3     https://www.powell-bryan.com/  \n",
              "4         https://www.carrillo.com/  \n",
              "5                https://patel.org/  \n",
              "6   http://www.irwin-donaldson.com/  \n",
              "7             https://www.bean.biz/  \n",
              "8          https://www.burnett.com/  \n",
              "9  http://www.maxwell-bradford.com/  "
            ]
          },
          "execution_count": 23,
          "metadata": {},
          "output_type": "execute_result"
        }
      ],
      "source": [
        "data.head(10)"
      ]
    },
    {
      "cell_type": "markdown",
      "metadata": {
        "id": "8puTGl-KXtc2"
      },
      "source": [
        "- loops"
      ]
    },
    {
      "cell_type": "code",
      "execution_count": null,
      "metadata": {
        "colab": {
          "base_uri": "https://localhost:8080/"
        },
        "id": "NNq0-SL1YF7u",
        "outputId": "2fa5ddbe-2646-470d-82b9-b83ccfa47c11"
      },
      "outputs": [
        {
          "data": {
            "text/plain": [
              "['banana', 'mango', 'orange', 67, 'A', True]"
            ]
          },
          "execution_count": 24,
          "metadata": {},
          "output_type": "execute_result"
        }
      ],
      "source": [
        "fruits"
      ]
    },
    {
      "cell_type": "code",
      "execution_count": null,
      "metadata": {
        "colab": {
          "base_uri": "https://localhost:8080/"
        },
        "id": "lgX8HooxYMe_",
        "outputId": "c451ee2f-dfaf-4d0d-c5bf-2595874bec37"
      },
      "outputs": [
        {
          "name": "stdout",
          "output_type": "stream",
          "text": [
            "banana\n",
            "mango\n",
            "orange\n",
            "67\n",
            "A\n",
            "True\n"
          ]
        }
      ],
      "source": [
        "for i in fruits:\n",
        "  print(i)"
      ]
    },
    {
      "cell_type": "code",
      "execution_count": null,
      "metadata": {
        "colab": {
          "base_uri": "https://localhost:8080/"
        },
        "id": "CdETUmbLYul7",
        "outputId": "14bf9fd7-18a1-4c68-a837-b18a830b21ce"
      },
      "outputs": [
        {
          "name": "stdout",
          "output_type": "stream",
          "text": [
            "0 banana\n",
            "1 mango\n",
            "2 orange\n",
            "3 67\n",
            "4 A\n",
            "5 True\n"
          ]
        }
      ],
      "source": [
        "for i ,x in enumerate(fruits):\n",
        "  print(f'{i} {x}')"
      ]
    },
    {
      "cell_type": "markdown",
      "metadata": {
        "id": "wRv2jzQaZu37"
      },
      "source": [
        "- while"
      ]
    },
    {
      "cell_type": "code",
      "execution_count": null,
      "metadata": {
        "colab": {
          "base_uri": "https://localhost:8080/"
        },
        "id": "UNXUnNzsZtpP",
        "outputId": "04c9d78f-cfdb-4c18-cc0f-abc9ae748dbd"
      },
      "outputs": [
        {
          "name": "stdout",
          "output_type": "stream",
          "text": [
            "hello world \n",
            "hello world \n",
            "hello world \n",
            "hello world \n",
            "hello world \n"
          ]
        }
      ],
      "source": [
        "i =0\n",
        "while(i<5):\n",
        "  print(\"hello world \")\n",
        "  i=i+1"
      ]
    },
    {
      "cell_type": "markdown",
      "metadata": {
        "id": "3BR1L3OncmIl"
      },
      "source": [
        "- Function"
      ]
    },
    {
      "cell_type": "markdown",
      "metadata": {
        "id": "mp5fhZf4cqAo"
      },
      "source": [
        " Function which does not take a variable and does not return a value"
      ]
    },
    {
      "cell_type": "code",
      "execution_count": null,
      "metadata": {
        "id": "GqaMYrGXclYC"
      },
      "outputs": [],
      "source": [
        "def addition():\n",
        "  x = float(input(\"enter value of x:\"))\n",
        "  y= float(input(\"enter value of y:\"))\n",
        "  z=x+y\n",
        "  print(z)"
      ]
    },
    {
      "cell_type": "code",
      "execution_count": null,
      "metadata": {
        "colab": {
          "base_uri": "https://localhost:8080/"
        },
        "id": "IJRKP6RRdIMt",
        "outputId": "71d65af7-bc61-4a4e-d925-6c16251cee75"
      },
      "outputs": [
        {
          "name": "stdout",
          "output_type": "stream",
          "text": [
            "enter value of x:12.5\n",
            "enter value of y:15\n",
            "27.5\n"
          ]
        }
      ],
      "source": [
        "addition()"
      ]
    },
    {
      "cell_type": "markdown",
      "metadata": {
        "id": "onjDrTzKfN5c"
      },
      "source": [
        "- Function which  take a variables and does not return a value"
      ]
    },
    {
      "cell_type": "code",
      "execution_count": null,
      "metadata": {
        "id": "yW0x_DDOfTzK"
      },
      "outputs": [],
      "source": [
        "def addition(t,k):\n",
        "  x = float(input(t))\n",
        "  y= float(input(k))\n",
        "  z=x+y\n",
        "  print(z)"
      ]
    },
    {
      "cell_type": "code",
      "execution_count": null,
      "metadata": {
        "colab": {
          "base_uri": "https://localhost:8080/"
        },
        "id": "qhMn9R-sft7-",
        "outputId": "b21312ac-7524-48a5-c514-176aed17618e"
      },
      "outputs": [
        {
          "name": "stdout",
          "output_type": "stream",
          "text": [
            "enter the value of x45\n",
            "enter the value of y10\n",
            "55.0\n"
          ]
        }
      ],
      "source": [
        "addition(\"enter the value of x\", \"enter the value of y\")"
      ]
    },
    {
      "cell_type": "markdown",
      "metadata": {
        "id": "5kzawlJZhlHa"
      },
      "source": [
        "Function which take a variables and return a value"
      ]
    },
    {
      "cell_type": "code",
      "execution_count": 1,
      "metadata": {
        "id": "KJmHFrHthsOn"
      },
      "outputs": [],
      "source": [
        "def addition(t,k):\n",
        "  x = float(input(t))\n",
        "  y= float(input(k))\n",
        "  z=x+y\n",
        "  return z"
      ]
    },
    {
      "cell_type": "code",
      "execution_count": 3,
      "metadata": {
        "colab": {
          "base_uri": "https://localhost:8080/"
        },
        "id": "kNgcLBzqh3sE",
        "outputId": "4c367289-d8d6-4bf0-fe8a-030967e153fa"
      },
      "outputs": [
        {
          "name": "stdout",
          "output_type": "stream",
          "text": [
            "enter value of X: 18\n",
            "ener value of y: 17\n"
          ]
        }
      ],
      "source": [
        "result= addition(\"enter value of X: \", \"ener value of y: \")"
      ]
    },
    {
      "cell_type": "code",
      "source": [
        "print(result)"
      ],
      "metadata": {
        "colab": {
          "base_uri": "https://localhost:8080/"
        },
        "id": "hwXGUtZhlW-Z",
        "outputId": "28d7c674-99e6-4622-a5d9-98a80c764708"
      },
      "execution_count": 4,
      "outputs": [
        {
          "output_type": "stream",
          "name": "stdout",
          "text": [
            "35.0\n"
          ]
        }
      ]
    },
    {
      "cell_type": "markdown",
      "source": [
        "Function which does not take a variable and return a value"
      ],
      "metadata": {
        "id": "XO71alW1mwtB"
      }
    },
    {
      "cell_type": "code",
      "source": [
        "def addition():\n",
        "  x = float(input(\"enter X: \"))\n",
        "  y= float(input(\"enter Y \"))\n",
        "  z=x+y\n",
        "  return z"
      ],
      "metadata": {
        "id": "KlEkf2gZm26i"
      },
      "execution_count": 5,
      "outputs": []
    },
    {
      "cell_type": "code",
      "source": [
        "result= addition()"
      ],
      "metadata": {
        "colab": {
          "base_uri": "https://localhost:8080/"
        },
        "id": "r-oZ5B0CniE3",
        "outputId": "59499aa3-b171-49d6-e615-7c024535f7d1"
      },
      "execution_count": 6,
      "outputs": [
        {
          "name": "stdout",
          "output_type": "stream",
          "text": [
            "enter X: 45\n",
            "enter Y 10\n"
          ]
        }
      ]
    },
    {
      "cell_type": "code",
      "source": [
        "print(result)"
      ],
      "metadata": {
        "colab": {
          "base_uri": "https://localhost:8080/"
        },
        "id": "FFb0t-CGnnqQ",
        "outputId": "f4e3c795-35cc-47f9-999e-0a1dc1275e12"
      },
      "execution_count": 7,
      "outputs": [
        {
          "output_type": "stream",
          "name": "stdout",
          "text": [
            "55.0\n"
          ]
        }
      ]
    }
  ],
  "metadata": {
    "colab": {
      "provenance": []
    },
    "kernelspec": {
      "display_name": "Python 3",
      "name": "python3"
    },
    "language_info": {
      "name": "python"
    }
  },
  "nbformat": 4,
  "nbformat_minor": 0
}